{
 "cells": [
  {
   "cell_type": "code",
   "execution_count": 8,
   "metadata": {},
   "outputs": [],
   "source": [
    "import numpy as np\n",
    "import dask.array as da\n",
    "import pandas as pd"
   ]
  },
  {
   "cell_type": "code",
   "execution_count": 2,
   "metadata": {},
   "outputs": [],
   "source": [
    "size_tuple=(9000,9000)"
   ]
  },
  {
   "cell_type": "code",
   "execution_count": 10,
   "metadata": {},
   "outputs": [],
   "source": [
    "size_tuple=(1000)"
   ]
  },
  {
   "cell_type": "code",
   "execution_count": 3,
   "metadata": {},
   "outputs": [],
   "source": [
    "## TIME NUMPY"
   ]
  },
  {
   "cell_type": "code",
   "execution_count": 11,
   "metadata": {},
   "outputs": [],
   "source": [
    "np_arr = np.random.randint(10,size=size_tuple)"
   ]
  },
  {
   "cell_type": "code",
   "execution_count": 5,
   "metadata": {},
   "outputs": [],
   "source": [
    "np_arr_2 = np.random.randint(10,size=size_tuple)"
   ]
  },
  {
   "cell_type": "code",
   "execution_count": 12,
   "metadata": {},
   "outputs": [
    {
     "data": {
      "text/plain": [
       "0      8\n",
       "1      6\n",
       "2      9\n",
       "3      6\n",
       "4      9\n",
       "      ..\n",
       "995    2\n",
       "996    4\n",
       "997    7\n",
       "998    4\n",
       "999    0\n",
       "Length: 1000, dtype: int64"
      ]
     },
     "execution_count": 12,
     "metadata": {},
     "output_type": "execute_result"
    }
   ],
   "source": [
    "pd.Series(np_arr)"
   ]
  },
  {
   "cell_type": "code",
   "execution_count": 6,
   "metadata": {},
   "outputs": [
    {
     "name": "stdout",
     "output_type": "stream",
     "text": [
      "CPU times: user 942 ms, sys: 285 ms, total: 1.23 s\n",
      "Wall time: 1.39 s\n"
     ]
    },
    {
     "data": {
      "text/plain": [
       "1966496.501888889"
      ]
     },
     "execution_count": 6,
     "metadata": {},
     "output_type": "execute_result"
    }
   ],
   "source": [
    "%time (((np_arr*2).T)**2+np_arr_2+100).sum(axis=1).mean()"
   ]
  },
  {
   "cell_type": "code",
   "execution_count": null,
   "metadata": {},
   "outputs": [],
   "source": []
  },
  {
   "cell_type": "code",
   "execution_count": null,
   "metadata": {},
   "outputs": [],
   "source": [
    "## TIME DASK"
   ]
  },
  {
   "cell_type": "code",
   "execution_count": 22,
   "metadata": {},
   "outputs": [],
   "source": [
    "chunk_tuple=(200,200)"
   ]
  },
  {
   "cell_type": "code",
   "execution_count": 23,
   "metadata": {},
   "outputs": [],
   "source": [
    "da_arr = da.from_array(np_arr,chunks=chunk_tuple)\n",
    "da_arr_2 = da.from_array(np_arr_2,chunks=chunk_tuple)"
   ]
  },
  {
   "cell_type": "code",
   "execution_count": 25,
   "metadata": {},
   "outputs": [],
   "source": [
    "proc_da_arr = (((da_arr*2).T)**2+da_arr_2+100).sum(axis=1).mean()"
   ]
  },
  {
   "cell_type": "code",
   "execution_count": 26,
   "metadata": {},
   "outputs": [
    {
     "name": "stdout",
     "output_type": "stream",
     "text": [
      "CPU times: user 2.26 s, sys: 0 ns, total: 2.26 s\n",
      "Wall time: 643 ms\n"
     ]
    },
    {
     "data": {
      "text/plain": [
       "1966496.501888889"
      ]
     },
     "execution_count": 26,
     "metadata": {},
     "output_type": "execute_result"
    }
   ],
   "source": [
    "%time proc_da_arr.compute()"
   ]
  },
  {
   "cell_type": "code",
   "execution_count": 10,
   "metadata": {},
   "outputs": [],
   "source": [
    "# FUNCTIONS"
   ]
  },
  {
   "cell_type": "code",
   "execution_count": 31,
   "metadata": {},
   "outputs": [],
   "source": [
    "size_tuple = (500,500)\n",
    "chunks_tuple = (10,500)"
   ]
  },
  {
   "cell_type": "code",
   "execution_count": 32,
   "metadata": {},
   "outputs": [],
   "source": [
    "da_arr = da.random.randint(10, size=size_tuple,chunks=chunks_tuple)"
   ]
  },
  {
   "cell_type": "code",
   "execution_count": 33,
   "metadata": {},
   "outputs": [],
   "source": [
    "da_arr_2 = da.random.randint(10, size=size_tuple,chunks=chunks_tuple)"
   ]
  },
  {
   "cell_type": "code",
   "execution_count": 34,
   "metadata": {},
   "outputs": [],
   "source": [
    "def random_function(x):\n",
    "    return np.mean((((x*2).T)**2),axis=0)"
   ]
  },
  {
   "cell_type": "code",
   "execution_count": 15,
   "metadata": {},
   "outputs": [],
   "source": [
    "gufoo = da.gufunc(random_function, signature='(i)->()',output_dtypes=float,vectorize=True)"
   ]
  },
  {
   "cell_type": "code",
   "execution_count": 38,
   "metadata": {},
   "outputs": [],
   "source": [
    "random_op_arr = gufoo(da_arr)"
   ]
  },
  {
   "cell_type": "code",
   "execution_count": 41,
   "metadata": {},
   "outputs": [
    {
     "data": {
      "text/plain": [
       "array([113.792, 112.944, 120.248, 116.152, 110.864, 118.064, 117.456,\n",
       "       113.608, 115.192, 118.032, 113.304, 107.712, 117.248, 107.024,\n",
       "       118.928, 107.52 , 112.392, 114.888, 116.848, 117.08 , 114.728,\n",
       "       110.8  , 118.904, 115.928, 122.904, 118.608, 119.752, 115.   ,\n",
       "       107.992, 119.064, 114.816, 118.048, 103.192, 112.224, 125.648,\n",
       "       104.08 , 118.008, 115.864, 118.576, 112.696, 116.384, 116.888,\n",
       "       115.696, 114.76 , 116.312, 117.36 , 114.224, 111.104, 115.032,\n",
       "       111.52 , 107.832, 120.048, 109.488, 117.968, 118.984, 114.088,\n",
       "       112.752, 103.824, 110.656, 112.576, 117.736, 109.   , 113.896,\n",
       "       116.576, 117.184, 112.536, 113.   , 112.16 , 115.792, 114.424,\n",
       "       113.648, 115.944, 108.392, 106.792, 120.608, 116.864, 129.744,\n",
       "       106.712, 121.384, 111.408, 109.264, 121.104, 116.424, 114.16 ,\n",
       "       116.976, 109.088, 108.168, 112.616, 110.864, 110.392, 108.728,\n",
       "       118.272, 113.736, 124.088, 105.736, 118.648, 119.72 , 113.472,\n",
       "       117.92 , 117.176, 115.008, 112.424, 116.496, 119.36 , 120.408,\n",
       "       110.872, 114.216, 116.824, 108.392, 114.336, 118.944, 112.968,\n",
       "       107.44 , 115.536, 121.64 , 116.44 , 122.696, 113.184, 112.592,\n",
       "       114.024, 117.736, 105.656, 114.32 , 115.944, 117.36 , 112.008,\n",
       "       106.408, 120.144, 116.376, 115.008, 111.36 , 114.168, 122.432,\n",
       "       105.248, 109.512, 111.32 , 106.928, 107.032, 112.432, 122.192,\n",
       "       114.424, 116.544, 120.2  , 118.256, 111.392, 117.264, 113.952,\n",
       "       116.464, 111.328, 118.184, 110.928, 105.784, 106.504, 119.44 ,\n",
       "       111.336, 117.176, 111.208, 116.136, 122.848, 107.6  , 112.144,\n",
       "       114.368, 103.168, 116.504, 109.824, 105.28 , 120.864, 105.912,\n",
       "       114.88 , 119.36 , 113.624, 118.072, 118.504, 117.52 , 110.952,\n",
       "       111.904, 122.736, 116.832, 117.336, 113.032, 114.144, 116.624,\n",
       "       109.568, 113.824, 116.168, 119.096, 121.648, 112.864, 112.68 ,\n",
       "       109.632, 111.84 , 110.416, 113.904, 113.368, 111.808, 112.304,\n",
       "       118.472, 114.352, 115.616, 119.472, 117.96 , 119.032, 112.08 ,\n",
       "       112.36 , 116.536, 115.608, 104.856, 107.24 , 117.552, 115.672,\n",
       "       118.512, 108.864, 116.232, 115.52 , 115.832, 112.256, 117.984,\n",
       "       107.312, 104.216, 113.568, 115.28 , 118.552, 115.2  , 124.44 ,\n",
       "       108.624, 112.944, 122.448, 114.296, 118.048, 111.232, 109.84 ,\n",
       "       121.56 , 121.008, 124.808, 116.48 , 115.52 , 108.448, 112.92 ,\n",
       "       119.072, 109.728, 106.752, 107.992, 112.496, 116.144, 114.208,\n",
       "       112.288, 116.928, 111.6  , 117.152, 116.016, 107.88 , 113.76 ,\n",
       "       119.208, 113.28 , 111.712, 118.968, 119.36 , 103.264, 113.44 ,\n",
       "       121.536, 118.816, 105.664, 117.904, 118.824, 113.792, 123.328,\n",
       "       115.136, 116.056, 108.808, 114.032, 109.   , 114.568, 118.32 ,\n",
       "       115.28 , 112.472, 118.208, 103.776, 114.504, 109.752, 118.112,\n",
       "       112.656, 113.232, 113.504, 124.392, 109.712, 108.52 , 110.864,\n",
       "       115.208, 110.544, 116.584, 110.344, 115.696, 110.368, 109.712,\n",
       "       110.488, 112.544, 110.952, 111.4  , 116.248, 116.912, 112.656,\n",
       "       117.344, 103.2  , 114.464, 116.152, 119.016, 110.48 , 113.304,\n",
       "       118.344, 116.976, 112.664, 116.568, 111.808, 116.168, 120.584,\n",
       "       118.68 , 121.072, 108.584, 112.84 , 118.464, 113.048, 119.944,\n",
       "       120.632, 108.88 , 108.576, 116.376, 117.936, 114.704, 124.752,\n",
       "       123.312, 105.832, 116.824, 116.464, 107.624, 123.304, 112.208,\n",
       "       110.928, 107.672, 111.632, 105.472, 115.888, 108.328, 113.448,\n",
       "       114.792, 110.584, 107.792, 119.552, 121.952, 117.76 , 113.6  ,\n",
       "       109.272, 114.824, 113.048, 116.296, 120.648, 108.52 , 109.352,\n",
       "       110.08 , 114.728, 111.376, 116.296, 121.728, 115.52 , 109.952,\n",
       "       114.336, 110.88 , 110.664, 117.408, 111.592, 110.576, 109.336,\n",
       "       106.4  , 115.712, 111.32 , 106.456, 118.104, 114.16 , 115.64 ,\n",
       "       118.896, 109.848, 113.232, 123.472, 115.048, 118.312, 107.48 ,\n",
       "       112.656, 110.408, 111.464, 118.4  , 116.32 , 110.224, 114.584,\n",
       "       117.616, 112.712, 117.072, 113.176, 107.824, 116.408, 110.064,\n",
       "       108.544, 126.264, 112.792, 107.72 , 107.176, 119.56 , 110.528,\n",
       "       120.064, 107.992, 106.368, 112.424, 113.976, 111.016, 116.584,\n",
       "       114.856, 121.832, 106.312, 114.48 , 105.52 , 120.12 , 112.288,\n",
       "       124.496, 107.8  , 117.968, 105.088, 111.16 , 116.032, 109.6  ,\n",
       "       110.728, 112.216, 109.856, 110.232, 120.416, 110.912, 115.816,\n",
       "       111.752, 114.52 , 104.968, 106.712, 108.   , 114.248, 115.6  ,\n",
       "       113.664, 118.952, 112.608, 104.104, 109.208, 118.624, 110.216,\n",
       "       108.064, 111.928, 104.968, 122.304, 113.72 , 107.656, 122.04 ,\n",
       "       115.72 , 117.096, 119.992, 114.064, 111.288, 117.28 , 112.048,\n",
       "       114.432, 112.176, 110.68 , 118.76 , 113.6  , 113.408, 110.328,\n",
       "       104.808, 124.096, 109.888, 116.152, 117.928, 122.832, 113.   ,\n",
       "       127.2  , 113.944, 122.208, 120.944, 108.072, 113.48 , 109.056,\n",
       "       111.464, 104.288, 108.136, 116.824, 109.224, 120.032, 116.912,\n",
       "       113.216, 116.536, 114.728, 106.088, 117.2  , 120.768, 120.4  ,\n",
       "       119.6  , 113.544, 118.928])"
      ]
     },
     "execution_count": 41,
     "metadata": {},
     "output_type": "execute_result"
    }
   ],
   "source": [
    "random_op_arr.compute()"
   ]
  },
  {
   "cell_type": "code",
   "execution_count": 42,
   "metadata": {},
   "outputs": [
    {
     "data": {
      "text/plain": [
       "(500,)"
      ]
     },
     "execution_count": 42,
     "metadata": {},
     "output_type": "execute_result"
    }
   ],
   "source": [
    "random_op_arr.shape"
   ]
  },
  {
   "cell_type": "code",
   "execution_count": 58,
   "metadata": {},
   "outputs": [],
   "source": [
    "@da.as_gufunc(signature='(m,n),(n,j)->(m,j)',output_dtypes=int,allow_rechunk=True)\n",
    "def random_function(x,y):\n",
    "    return np.matmul(x,y)**2"
   ]
  },
  {
   "cell_type": "code",
   "execution_count": 59,
   "metadata": {},
   "outputs": [],
   "source": [
    "da_arr_3 = da.random.randint(10,size=(200,100),chunks=(10,100))\n",
    "da_arr_4 = da.random.randint(10,size=(100,100),chunks=(5,5))"
   ]
  },
  {
   "cell_type": "code",
   "execution_count": 61,
   "metadata": {},
   "outputs": [
    {
     "name": "stderr",
     "output_type": "stream",
     "text": [
      "/usr/local/lib/python3.6/dist-packages/dask/array/gufunc.py:422: PerformanceWarning: Increasing number of chunks by factor of 20\n",
      "  func, loop_output_dims, *arginds, concatenate=True, **kwargs\n"
     ]
    }
   ],
   "source": [
    "random_function_ = random_function(da_arr_3,da_arr_4).compute()"
   ]
  },
  {
   "cell_type": "code",
   "execution_count": 62,
   "metadata": {},
   "outputs": [
    {
     "data": {
      "text/plain": [
       "(200, 100)"
      ]
     },
     "execution_count": 62,
     "metadata": {},
     "output_type": "execute_result"
    }
   ],
   "source": [
    "random_function_.shape"
   ]
  },
  {
   "cell_type": "code",
   "execution_count": null,
   "metadata": {},
   "outputs": [],
   "source": []
  },
  {
   "cell_type": "code",
   "execution_count": null,
   "metadata": {},
   "outputs": [],
   "source": []
  }
 ],
 "metadata": {
  "kernelspec": {
   "display_name": "Python 3",
   "language": "python",
   "name": "python3"
  },
  "language_info": {
   "codemirror_mode": {
    "name": "ipython",
    "version": 3
   },
   "file_extension": ".py",
   "mimetype": "text/x-python",
   "name": "python",
   "nbconvert_exporter": "python",
   "pygments_lexer": "ipython3",
   "version": "3.6.9"
  }
 },
 "nbformat": 4,
 "nbformat_minor": 4
}
