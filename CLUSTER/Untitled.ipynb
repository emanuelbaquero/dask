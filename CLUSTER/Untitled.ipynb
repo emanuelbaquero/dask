{
 "cells": [
  {
   "cell_type": "code",
   "execution_count": 17,
   "metadata": {},
   "outputs": [],
   "source": [
    "from  dask import delayed, compute"
   ]
  },
  {
   "cell_type": "code",
   "execution_count": 18,
   "metadata": {},
   "outputs": [],
   "source": [
    "x = [2,4,5,6,1]\n",
    "y = [2,5,2,2,1]"
   ]
  },
  {
   "cell_type": "code",
   "execution_count": 19,
   "metadata": {},
   "outputs": [],
   "source": [
    "def sumar(x,y):\n",
    "    return x+y"
   ]
  },
  {
   "cell_type": "code",
   "execution_count": 20,
   "metadata": {},
   "outputs": [],
   "source": [
    "resulta=[]\n",
    "for i in range(0,len(x)):\n",
    "    resulta.append(delayed(sumar)(x[i],y[i]))"
   ]
  },
  {
   "cell_type": "code",
   "execution_count": 29,
   "metadata": {},
   "outputs": [],
   "source": [
    "final_sum = delayed(sum)(resulta)"
   ]
  },
  {
   "cell_type": "code",
   "execution_count": 30,
   "metadata": {},
   "outputs": [
    {
     "name": "stdout",
     "output_type": "stream",
     "text": [
      "CPU times: user 19 ms, sys: 24.7 ms, total: 43.6 ms\n",
      "Wall time: 240 ms\n"
     ]
    }
   ],
   "source": [
    "with dask.config.set(scheduler='processes'):\n",
    "    %time _ = final_sum.compute()"
   ]
  },
  {
   "cell_type": "code",
   "execution_count": 31,
   "metadata": {},
   "outputs": [
    {
     "name": "stdout",
     "output_type": "stream",
     "text": [
      "CPU times: user 871 µs, sys: 0 ns, total: 871 µs\n",
      "Wall time: 717 µs\n"
     ]
    }
   ],
   "source": [
    "with dask.config.set(scheduler='sync'):\n",
    "    %time _ = final_sum.compute()"
   ]
  },
  {
   "cell_type": "code",
   "execution_count": 33,
   "metadata": {},
   "outputs": [
    {
     "name": "stdout",
     "output_type": "stream",
     "text": [
      "CPU times: user 7.49 ms, sys: 6.16 ms, total: 13.6 ms\n",
      "Wall time: 10 ms\n"
     ]
    }
   ],
   "source": [
    "with dask.config.set(scheduler='threading'):\n",
    "    %time _ = final_sum.compute()"
   ]
  }
 ],
 "metadata": {
  "kernelspec": {
   "display_name": "Python 3",
   "language": "python",
   "name": "python3"
  },
  "language_info": {
   "codemirror_mode": {
    "name": "ipython",
    "version": 3
   },
   "file_extension": ".py",
   "mimetype": "text/x-python",
   "name": "python",
   "nbconvert_exporter": "python",
   "pygments_lexer": "ipython3",
   "version": "3.6.9"
  }
 },
 "nbformat": 4,
 "nbformat_minor": 2
}
